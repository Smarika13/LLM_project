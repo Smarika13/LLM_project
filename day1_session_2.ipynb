{
  "nbformat": 4,
  "nbformat_minor": 0,
  "metadata": {
    "colab": {
      "provenance": [],
      "authorship_tag": "ABX9TyPAcZSodOKV5/3OCxXjLwTi",
      "include_colab_link": true
    },
    "kernelspec": {
      "name": "python3",
      "display_name": "Python 3"
    },
    "language_info": {
      "name": "python"
    }
  },
  "cells": [
    {
      "cell_type": "markdown",
      "metadata": {
        "id": "view-in-github",
        "colab_type": "text"
      },
      "source": [
        "<a href=\"https://colab.research.google.com/github/Smarika13/LLM_project/blob/main/day1_session_2.ipynb\" target=\"_parent\"><img src=\"https://colab.research.google.com/assets/colab-badge.svg\" alt=\"Open In Colab\"/></a>"
      ]
    },
    {
      "cell_type": "code",
      "execution_count": null,
      "metadata": {
        "id": "mkq3GWq5zBeE"
      },
      "outputs": [],
      "source": [
        "from google.colab import userdata\n",
        "api_key = userdata.get('gemini_api_key')"
      ]
    },
    {
      "cell_type": "code",
      "source": [
        "import google.generativeai as genai\n"
      ],
      "metadata": {
        "id": "JI5hXnpKzK7E"
      },
      "execution_count": null,
      "outputs": []
    },
    {
      "cell_type": "code",
      "source": [
        "geminiapi = genai.configure(api_key=api_key)\n",
        "llm = genai.GenerativeModel('gemini-2.5-flash')\n",
        "response = llm.generate_content(\"Tell me a joke \")"
      ],
      "metadata": {
        "id": "eEIp7CuizmAj"
      },
      "execution_count": null,
      "outputs": []
    },
    {
      "cell_type": "code",
      "source": [
        "response"
      ],
      "metadata": {
        "colab": {
          "base_uri": "https://localhost:8080/"
        },
        "id": "XuCrbSWT1Kj2",
        "outputId": "6a8b5894-63c6-4648-eb68-057b6a0d9747"
      },
      "execution_count": null,
      "outputs": [
        {
          "output_type": "execute_result",
          "data": {
            "text/plain": [
              "response:\n",
              "GenerateContentResponse(\n",
              "    done=True,\n",
              "    iterator=None,\n",
              "    result=protos.GenerateContentResponse({\n",
              "      \"candidates\": [\n",
              "        {\n",
              "          \"content\": {\n",
              "            \"parts\": [\n",
              "              {\n",
              "                \"text\": \"Why don't scientists trust atoms?\\n\\nBecause they make up everything!\"\n",
              "              }\n",
              "            ],\n",
              "            \"role\": \"model\"\n",
              "          },\n",
              "          \"finish_reason\": \"STOP\",\n",
              "          \"index\": 0\n",
              "        }\n",
              "      ],\n",
              "      \"usage_metadata\": {\n",
              "        \"prompt_token_count\": 6,\n",
              "        \"candidates_token_count\": 15,\n",
              "        \"total_token_count\": 53\n",
              "      },\n",
              "      \"model_version\": \"gemini-2.5-flash\"\n",
              "    }),\n",
              ")"
            ]
          },
          "metadata": {},
          "execution_count": 7
        }
      ]
    },
    {
      "cell_type": "code",
      "source": [
        "response.text\n"
      ],
      "metadata": {
        "colab": {
          "base_uri": "https://localhost:8080/",
          "height": 36
        },
        "id": "6Z89K8Tj1QJg",
        "outputId": "9076677e-1754-4e26-87ba-b591b5700a9b"
      },
      "execution_count": null,
      "outputs": [
        {
          "output_type": "execute_result",
          "data": {
            "text/plain": [
              "\"Why don't scientists trust atoms?\\n\\nBecause they make up everything!\""
            ],
            "application/vnd.google.colaboratory.intrinsic+json": {
              "type": "string"
            }
          },
          "metadata": {},
          "execution_count": 9
        }
      ]
    },
    {
      "cell_type": "code",
      "source": [
        "print(response.text)"
      ],
      "metadata": {
        "colab": {
          "base_uri": "https://localhost:8080/"
        },
        "id": "N_JQnsCC3-CG",
        "outputId": "ac38bc58-f54d-45da-bc9b-2b69d022e8c9"
      },
      "execution_count": null,
      "outputs": [
        {
          "output_type": "stream",
          "name": "stdout",
          "text": [
            "Why don't scientists trust atoms?\n",
            "\n",
            "Because they make up everything!\n"
          ]
        }
      ]
    },
    {
      "cell_type": "code",
      "source": [
        "#tune the llm model\n",
        "generation_config = {\n",
        "    'temperature' : 0.6,\n",
        "    'max_output_tokens' : 100,\n",
        "    'candidate_count' : 1,\n",
        "\n",
        "}"
      ],
      "metadata": {
        "id": "uDHGMtDI4HoJ"
      },
      "execution_count": null,
      "outputs": []
    },
    {
      "cell_type": "code",
      "source": [
        "llm = genai.GenerativeModel(\n",
        "    model_name = 'gemini-2.5-flash',\n",
        "    generation_config = generation_config,\n",
        "    system_instruction= \"You are the professor of Engineering college in Applied maths\"\n",
        ")\n"
      ],
      "metadata": {
        "id": "ot3lfgBr40E3"
      },
      "execution_count": null,
      "outputs": []
    },
    {
      "cell_type": "code",
      "source": [
        "input = \"What is fourier transform ?\""
      ],
      "metadata": {
        "id": "Hgt-wGTI5NLR"
      },
      "execution_count": null,
      "outputs": []
    },
    {
      "cell_type": "code",
      "source": [
        "#start the session\n",
        "chat_session = llm.start_chat()"
      ],
      "metadata": {
        "id": "M6e3KBuA5WZK"
      },
      "execution_count": null,
      "outputs": []
    },
    {
      "cell_type": "code",
      "source": [
        "### Let's playaround with Prompt template"
      ],
      "metadata": {
        "id": "tENeNGEd9RRa"
      },
      "execution_count": null,
      "outputs": []
    },
    {
      "cell_type": "code",
      "source": [
        "template_string=\"\"\"Translate the text\\\n",
        "that is delimited by triple brackets\\\n",
        "into a style that is {style}.\\\n",
        "text:'''{text}'''\n",
        "\"\"\""
      ],
      "metadata": {
        "id": "XMM8mFcK9dJV"
      },
      "execution_count": null,
      "outputs": []
    },
    {
      "cell_type": "code",
      "source": [
        "from langchain.prompts import ChatPromptTemplate\n",
        "prompt_template = ChatPromptTemplate.from_template(template_string)"
      ],
      "metadata": {
        "id": "QTf97YXfBpLb"
      },
      "execution_count": null,
      "outputs": []
    },
    {
      "cell_type": "code",
      "source": [
        "prompt_template.messages[0].prompt"
      ],
      "metadata": {
        "colab": {
          "base_uri": "https://localhost:8080/"
        },
        "id": "XxdK6XmvB5PS",
        "outputId": "3749e794-edd1-4f0a-cc19-e319f4563c85"
      },
      "execution_count": null,
      "outputs": [
        {
          "output_type": "execute_result",
          "data": {
            "text/plain": [
              "PromptTemplate(input_variables=['style', 'text'], input_types={}, partial_variables={}, template=\"Translate the textthat is delimited by triple bracketsinto a style that is {style}.text:'''{text}'''\\n\")"
            ]
          },
          "metadata": {},
          "execution_count": 42
        }
      ]
    },
    {
      "cell_type": "code",
      "source": [
        "customer_style = \"\"\"American English \\\n",
        "in a calm and respectful tone\n",
        "\"\"\""
      ],
      "metadata": {
        "id": "ighnOlWRCCFY"
      },
      "execution_count": null,
      "outputs": []
    },
    {
      "cell_type": "code",
      "source": [
        "customer_email = \"\"\"Welcome to GenAI tutorial \\\n",
        "class. This is day1.We are using Google gemini flash model\n",
        "\"\"\""
      ],
      "metadata": {
        "id": "7aJH8y5L-c90"
      },
      "execution_count": null,
      "outputs": []
    },
    {
      "cell_type": "code",
      "source": [
        "customer_messages = prompt_template.format_messages(\n",
        "    style=customer_style,\n",
        "    text=customer_email\n",
        ")"
      ],
      "metadata": {
        "id": "w-kspmWvCNWd"
      },
      "execution_count": null,
      "outputs": []
    },
    {
      "cell_type": "code",
      "source": [
        "customer_messages[0]"
      ],
      "metadata": {
        "colab": {
          "base_uri": "https://localhost:8080/"
        },
        "id": "UdJF8fKqCTRs",
        "outputId": "15f56506-8089-4eed-ca21-d10557750dd3"
      },
      "execution_count": null,
      "outputs": [
        {
          "output_type": "execute_result",
          "data": {
            "text/plain": [
              "HumanMessage(content=\"Translate the textthat is delimited by triple bracketsinto a style that is American English in a calm and respectful tone\\n.text:'''Welcome to GenAI tutorial class. This is day1.We are using Google gemini flash model\\n'''\\n\", additional_kwargs={}, response_metadata={})"
            ]
          },
          "metadata": {},
          "execution_count": 46
        }
      ]
    },
    {
      "cell_type": "code",
      "source": [
        "service_style = \"\"\"British English \\\n",
        "in a calm and respectful tone\n",
        "service \\\n",
        "\n",
        "\n",
        "\"\"\"\n",
        "service_style = \"\"\"British English \\\n",
        "in a calm and respectful tone\n",
        "\"\"\""
      ],
      "metadata": {
        "id": "jecIPQyGCkRj"
      },
      "execution_count": null,
      "outputs": []
    },
    {
      "cell_type": "code",
      "source": [
        "print(customer_messages[0])"
      ],
      "metadata": {
        "colab": {
          "base_uri": "https://localhost:8080/"
        },
        "id": "vdlgJINqC8aT",
        "outputId": "b4e9167c-245f-4bf6-f325-0b308ac60826"
      },
      "execution_count": null,
      "outputs": [
        {
          "output_type": "stream",
          "name": "stdout",
          "text": [
            "content=\"Translate the textthat is delimited by triple bracketsinto a style that is American English in a calm and respectful tone\\n.text:'''Welcome to GenAI tutorial class. This is day1.We are using Google gemini flash model\\n'''\\n\" additional_kwargs={} response_metadata={}\n"
          ]
        }
      ]
    },
    {
      "cell_type": "markdown",
      "source": [],
      "metadata": {
        "id": "WIs70eom-cec"
      }
    }
  ]
}